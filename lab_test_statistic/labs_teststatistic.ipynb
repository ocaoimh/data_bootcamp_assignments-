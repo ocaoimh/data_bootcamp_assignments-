{
 "cells": [
  {
   "attachments": {},
   "cell_type": "markdown",
   "metadata": {},
   "source": [
    "![logo_ironhack_blue 7](https://user-images.githubusercontent.com/23629340/40541063-a07a0a8a-601a-11e8-91b5-2f13e4e6b441.png)\n",
    "\n",
    "# Lab | Inferential statistics\n",
    "\n",
    "\n",
    "### Instructions\n",
    "\n",
    "1. It is assumed that the mean systolic blood pressure is `μ = 120 mm Hg`. In the Honolulu Heart Study, a sample of `n = 100` people had an average systolic blood pressure of 130.1 mm Hg with a standard deviation of 21.21 mm Hg. Is the group significantly different (with respect to systolic blood pressure!) from the regular population?\n",
    "\n",
    "   - Set up the hypothesis test.\n",
    "   - Write down all the steps followed for setting up the test.\n",
    "   - Calculate the test statistic by hand and also code it in Python. It should be 4.76190. We will take a look at how to make decisions based on this calculated value.\n",
    "\n",
    "\n",
    "\n",
    "\n"
   ]
  },
  {
   "attachments": {},
   "cell_type": "markdown",
   "metadata": {},
   "source": [
    "## Set up the hypotheses\n",
    "\n",
    "We'll have a two tailed test as our instructions for the creating Ha (below) does not ask to to estimate if the mean systolic blood pressure is higher or lower (two directions) but if the sample is not equal to the mean - therefore it's in one direction. \n",
    "\n",
    "## Our hypotheses\n",
    "Null hypothesis (H<sub>0</sub>): The mean systolic blood pressure of the group is not significantly different from the population mean (μ = 120 mm Hg).\n",
    "\n",
    "Alternative hypothesis (Ha): The mean systolic blood pressure of the group is significantly different from the population mean (μ ≠ 120 mm Hg).\n",
    "\n",
    "### Step 2: Choose the significance level (α):\n",
    "We'll choose the 'standard' significance level of α = 0.05. \n",
    "🖕 NB: The significance level determines the probability of making a Type I error or a false positive, that is, rejecting the null hypothesis when it is true. \n",
    "\n",
    "### Step 3: Determine the test statistic and its distribution:\n",
    "\n",
    "In this case, we will use a one-sample t-test since we have the sample mean, standard deviation, and want to compare it to a known population mean.\n",
    "The test statistic for a one-sample t-test is given by:\n",
    "t = (sample mean - population mean) / (sample standard deviation / √n)\n",
    "\n",
    "### Step 4: Calculate the test statistic:\n",
    "\n",
    "*Sample mean (x̄)* = 130.1 mm Hg\n",
    "*Population mean (μ)* = 120 mm Hg\n",
    "*Sample standard deviation (s)* = 21.21 mm Hg\n",
    "*Sample size (n)* = 100\n",
    "\n",
    "Calculate the test statistic:\n",
    "t = (x̄ - μ) / (s / √n)  OR the test statsitic = (sample mean - pop mean) / (sample st deviation / square root of the sample size)\n",
    "\n",
    "= (130.1 - 120) / (21.21 / √100)\n",
    "= 4.76190 (rounded to 5 decimal places)"
   ]
  },
  {
   "cell_type": "code",
   "execution_count": 1,
   "metadata": {},
   "outputs": [
    {
     "name": "stdout",
     "output_type": "stream",
     "text": [
      "Test statistic: 4.7619\n"
     ]
    }
   ],
   "source": [
    "import math\n",
    "\n",
    "x_bar = 130.1\n",
    "mu = 120\n",
    "s = 21.21\n",
    "n = 100\n",
    "\n",
    "t = (x_bar - mu) / (s / math.sqrt(n))\n",
    "print(\"Test statistic:\", round(t, 5))\n"
   ]
  }
 ],
 "metadata": {
  "kernelspec": {
   "display_name": "Python 3",
   "language": "python",
   "name": "python3"
  },
  "language_info": {
   "codemirror_mode": {
    "name": "ipython",
    "version": 3
   },
   "file_extension": ".py",
   "mimetype": "text/x-python",
   "name": "python",
   "nbconvert_exporter": "python",
   "pygments_lexer": "ipython3",
   "version": "3.11.1"
  },
  "orig_nbformat": 4
 },
 "nbformat": 4,
 "nbformat_minor": 2
}
