{
 "cells": [
  {
   "cell_type": "code",
   "execution_count": 4,
   "metadata": {},
   "outputs": [],
   "source": [
    "from bs4 import BeautifulSoup\n",
    "import pandas as pd\n",
    "import requests\n",
    "import math\n"
   ]
  },
  {
   "cell_type": "code",
   "execution_count": 5,
   "metadata": {},
   "outputs": [
    {
     "name": "stdout",
     "output_type": "stream",
     "text": [
      "HTTP Error\n",
      "403 Client Error: Forbidden for url: https://spinditty.com/playlists/100songs\n",
      "<Response [403]>\n"
     ]
    }
   ],
   "source": [
    "\n",
    "\n",
    "try:\n",
    "    r = requests.get('https://spinditty.com/playlists/100songs', timeout=1)\n",
    "    r.raise_for_status()\n",
    "except requests.exceptions.HTTPError as errh:\n",
    "    print(\"HTTP Error\")\n",
    "    print(errh.args[0])\n",
    "# Prints the response code\n",
    "print(r)\n",
    "\n"
   ]
  },
  {
   "attachments": {},
   "cell_type": "markdown",
   "metadata": {},
   "source": [
    "No! Permission denied. Let's see if the Australians are nicer"
   ]
  },
  {
   "cell_type": "code",
   "execution_count": 13,
   "metadata": {},
   "outputs": [
    {
     "name": "stdout",
     "output_type": "stream",
     "text": [
      "Response Code: 200\n",
      "Status Name: OK\n"
     ]
    }
   ],
   "source": [
    "from requests import codes\n",
    "from http.client import responses\n",
    "\n",
    "\n",
    "try:\n",
    "    r = requests.get('https://www.abc.net.au/triplej/hottest100/22/1-100', timeout=1)\n",
    "    r.raise_for_status()\n",
    "except requests.exceptions.HTTPError as errh:\n",
    "    print(\"HTTP Error\")\n",
    "    print(errh.args[0])\n",
    "else:\n",
    "    status_code = r.status_code\n",
    "    status_name = responses[status_code]\n",
    "    if status_name:\n",
    "        print(\"Response Code:\", status_code)\n",
    "        print(\"Status Name:\", status_name)\n",
    "    else:\n",
    "        print(\"Response Code:\", status_code)\n",
    "\n"
   ]
  },
  {
   "cell_type": "code",
   "execution_count": 12,
   "metadata": {},
   "outputs": [
    {
     "name": "stdout",
     "output_type": "stream",
     "text": [
      "<!DOCTYPE html>\n",
      "<html lang=en>\n",
      "  <meta charset=utf-8>\n",
      "  <meta name=viewport content=\"initial-scale=1, minimum-scale=1, width=device-width\">\n",
      "  <title>Error 404 (Not Found)!!1</title>\n",
      "  <style>\n",
      "    *{margin:0;padding:0}html,code{font:15px/22px arial,sans-serif}html{background:#fff;color:#222;padding:15px}body{margin:7% auto 0;max-width:390px;min-height:180px;padding:30px 0 15px}* > body{background:url(//www.google.com/images/errors/robot.png) 100% 5px no-repeat;padding-right:205px}p{margin:11px 0 22px;overflow:hidden}ins{color:#777;text-decoration:none}a img{border:0}@media screen and (max-width:772px){body{background:none;margin-top:0;max-width:none;padding-right:0}}#logo{background:url(//www.google.com/images/branding/googlelogo/1x/googlelogo_color_150x54dp.png) no-repeat;margin-left:-5px}@media only screen and (min-resolution:192dpi){#logo{background:url(//www.google.com/images/branding/googlelogo/2x/googlelogo_color_150x54dp.png) no-repeat 0% 0%/100% 100%;-moz-border-image:url(//www.google.com/images/branding/googlelogo/2x/googlelogo_color_150x54dp.png) 0}}@media only screen and (-webkit-min-device-pixel-ratio:2){#logo{background:url(//www.google.com/images/branding/googlelogo/2x/googlelogo_color_150x54dp.png) no-repeat;-webkit-background-size:100% 100%}}#logo{display:inline-block;height:54px;width:150px}\n",
      "  </style>\n",
      "  <a href=//www.google.com/><span id=logo aria-label=Google></span></a>\n",
      "  <p><b>404.</b> <ins>That’s an error.</ins>\n",
      "  <p>The requested URL <code>/nothere</code> was not found on this server.  <ins>That’s all we know.</ins>\n",
      "\n"
     ]
    }
   ],
   "source": [
    "##try:\n",
    "   # r = requests.get('http://www.google.com/nothere')\n",
    "   # r.raise_for_status()\n",
    "#except requests.HTTPError as e:\n",
    "    #print(e.response.text) "
   ]
  },
  {
   "cell_type": "code",
   "execution_count": null,
   "metadata": {},
   "outputs": [],
   "source": [
    "soup = BeautifulSoup(r.content, 'html.parser')\n",
    "\n",
    "soup"
   ]
  },
  {
   "attachments": {},
   "cell_type": "markdown",
   "metadata": {},
   "source": [
    "Cool! We have the right div class, let's get some songs names and artists."
   ]
  },
  {
   "cell_type": "code",
   "execution_count": 15,
   "metadata": {},
   "outputs": [
    {
     "data": {
      "text/plain": [
       "<div class=\"HNA0s\">\n",
       "<div class=\"t8Ts-\">1</div>\n",
       "<div class=\"wbq-B\">Say Nothing</div>\n",
       "<span class=\"tYvq7\" data-component=\"ScreenReaderOnly\">by</span>\n",
       "<div>Flume [Ft. MAY-A]</div>\n",
       "</div>"
      ]
     },
     "execution_count": 15,
     "metadata": {},
     "output_type": "execute_result"
    }
   ],
   "source": [
    "songs = soup.find_all('div', attrs={'class': \"HNA0s\"})\n",
    "songs[0] # lists all movies within this div class "
   ]
  },
  {
   "attachments": {},
   "cell_type": "markdown",
   "metadata": {},
   "source": [
    "Damn, get all the HTML tags"
   ]
  },
  {
   "cell_type": "code",
   "execution_count": 16,
   "metadata": {},
   "outputs": [
    {
     "name": "stdout",
     "output_type": "stream",
     "text": [
      "Song Title: Say Nothing\n",
      "Artist Name: Flume [Ft. MAY-A]\n"
     ]
    }
   ],
   "source": [
    "\n",
    "# Find the div element containing the song title\n",
    "title_element = soup.find('div', class_='wbq-B')\n",
    "\n",
    "# Extract the text from the element\n",
    "song_title = title_element.get_text(strip=True) if title_element else \"\"\n",
    "\n",
    "# Find the div element containing the artist name\n",
    "artist_element = title_element.find_next_sibling('div')\n",
    "\n",
    "# Extract the text from the element\n",
    "artist_name = artist_element.get_text(strip=True) if artist_element else \"\"\n",
    "\n",
    "# Print the song title and artist name\n",
    "print(\"Song Title:\", song_title)\n",
    "print(\"Artist Name:\", artist_name)"
   ]
  },
  {
   "attachments": {},
   "cell_type": "markdown",
   "metadata": {},
   "source": [
    "Have the title and the artist but now need to iterate through the page"
   ]
  },
  {
   "cell_type": "code",
   "execution_count": 23,
   "metadata": {},
   "outputs": [
    {
     "data": {
      "text/html": [
       "<div>\n",
       "<style scoped>\n",
       "    .dataframe tbody tr th:only-of-type {\n",
       "        vertical-align: middle;\n",
       "    }\n",
       "\n",
       "    .dataframe tbody tr th {\n",
       "        vertical-align: top;\n",
       "    }\n",
       "\n",
       "    .dataframe thead th {\n",
       "        text-align: right;\n",
       "    }\n",
       "</style>\n",
       "<table border=\"1\" class=\"dataframe\">\n",
       "  <thead>\n",
       "    <tr style=\"text-align: right;\">\n",
       "      <th></th>\n",
       "      <th>Song Name</th>\n",
       "      <th>Artist</th>\n",
       "    </tr>\n",
       "  </thead>\n",
       "  <tbody>\n",
       "    <tr>\n",
       "      <th>0</th>\n",
       "      <td>Say Nothing</td>\n",
       "      <td>Flume [Ft. MAY-A]</td>\n",
       "    </tr>\n",
       "    <tr>\n",
       "      <th>1</th>\n",
       "      <td>B.O.T.A. (Baddest Of Them All)</td>\n",
       "      <td>Eliza Rose &amp; Interplanetary Criminal</td>\n",
       "    </tr>\n",
       "    <tr>\n",
       "      <th>2</th>\n",
       "      <td>Hardlight</td>\n",
       "      <td>Spacey Jane</td>\n",
       "    </tr>\n",
       "    <tr>\n",
       "      <th>3</th>\n",
       "      <td>Bad Habit</td>\n",
       "      <td>Steve Lacy</td>\n",
       "    </tr>\n",
       "    <tr>\n",
       "      <th>4</th>\n",
       "      <td>It's Been A Long Day</td>\n",
       "      <td>Spacey Jane</td>\n",
       "    </tr>\n",
       "  </tbody>\n",
       "</table>\n",
       "</div>"
      ],
      "text/plain": [
       "                        Song Name                                Artist\n",
       "0                     Say Nothing                     Flume [Ft. MAY-A]\n",
       "1  B.O.T.A. (Baddest Of Them All)  Eliza Rose & Interplanetary Criminal\n",
       "2                       Hardlight                           Spacey Jane\n",
       "3                       Bad Habit                            Steve Lacy\n",
       "4            It's Been A Long Day                           Spacey Jane"
      ]
     },
     "execution_count": 23,
     "metadata": {},
     "output_type": "execute_result"
    }
   ],
   "source": [
    "songs = soup.find_all('div', attrs={'class': 'HNA0s'}) # find all the songs with the <div class=\"HNA0s\"> (it's the parent div)\n",
    "\n",
    "JJJ_df = [] #create an empty list to store the data from songs \n",
    "for song in songs: # iterate down the page to get the text from the div class with the title\n",
    "    title_element = song.find('div', class_='wbq-B') #  \n",
    "    song_title = title_element.get_text(strip=True) if title_element else \"\"\n",
    "    artist_element = title_element.find_next_sibling('div') # and the div class (just underneath with the artist name)\n",
    "\n",
    "    if song_title and artist_element:\n",
    "        artist = artist_element.get_text(strip=True)\n",
    "        JJJ_df.append({'Song Name': song_title, 'Artist': artist}) # creates a dictionary that will fill the list JJJ_df \n",
    "\n",
    "JJJ_df = pd.DataFrame(JJJ_df) # convert the dictionary into a dataframe\n",
    "\n",
    "JJJ_df.head()"
   ]
  }
 ],
 "metadata": {
  "kernelspec": {
   "display_name": "base",
   "language": "python",
   "name": "python3"
  },
  "language_info": {
   "codemirror_mode": {
    "name": "ipython",
    "version": 3
   },
   "file_extension": ".py",
   "mimetype": "text/x-python",
   "name": "python",
   "nbconvert_exporter": "python",
   "pygments_lexer": "ipython3",
   "version": "3.10.9"
  },
  "orig_nbformat": 4
 },
 "nbformat": 4,
 "nbformat_minor": 2
}
