{
 "cells": [
  {
   "cell_type": "code",
   "execution_count": 14,
   "metadata": {},
   "outputs": [
    {
     "name": "stdout",
     "output_type": "stream",
     "text": [
      "Gender: unknown\n"
     ]
    }
   ],
   "source": [
    "import json\n",
    "\n",
    "from urllib.request import urlopen\n",
    "\n",
    "\n",
    "myKey = \"c1e99e8674f967e3bcc4b8fd10c500ccb1d3201e9354b5c071f548e40526fc13\"\n",
    "url = \"https://gender-api.com/get?key=\" + myKey + \"&name=Kevin\"\n",
    "response = urlopen(url)\n",
    "decoded = response.read().decode('utf-8')\n",
    "data = json.loads(decoded)\n",
    "print( \"Gender: \" + data[\"gender\"]); #Gender: male\n"
   ]
  },
  {
   "cell_type": "code",
   "execution_count": 15,
   "metadata": {},
   "outputs": [],
   "source": [
    "import json\n",
    "from urllib.request import urlopen\n",
    "\n",
    "def get_gender(name):\n",
    "    myKey = \"c1e99e8674f967e3bcc4b8fd10c500ccb1d3201e9354b5c071f548e40526fc13\"\n",
    "    url = \"https://gender-api.com/get?key=\" + myKey + \"&name=\" + name\n",
    "    response = urlopen(url)\n",
    "    decoded = response.read().decode('utf-8')\n",
    "    data = json.loads(decoded)\n",
    "    return data[\"gender\"]"
   ]
  },
  {
   "cell_type": "code",
   "execution_count": 16,
   "metadata": {},
   "outputs": [
    {
     "name": "stdout",
     "output_type": "stream",
     "text": [
      "Name: Robert, Gender: unknown\n",
      "Name: John, Gender: unknown\n",
      "Name: Michael, Gender: unknown\n",
      "Name: David, Gender: unknown\n"
     ]
    },
    {
     "name": "stdout",
     "output_type": "stream",
     "text": [
      "Name: William, Gender: unknown\n",
      "Name: Richard, Gender: unknown\n",
      "Name: Joseph, Gender: unknown\n",
      "Name: Thomas, Gender: unknown\n",
      "Name: Christopher, Gender: unknown\n",
      "Name: Charles, Gender: unknown\n",
      "Name: Daniel, Gender: unknown\n",
      "Name: Matthew, Gender: unknown\n",
      "Name: Anthony, Gender: unknown\n",
      "Name: Mark, Gender: unknown\n",
      "Name: Donald, Gender: unknown\n",
      "Name: Steven, Gender: unknown\n",
      "Name: Andrew, Gender: unknown\n",
      "Name: Paul, Gender: unknown\n",
      "Name: Joshua, Gender: unknown\n",
      "Name: Kenneth, Gender: unknown\n",
      "Name: Kevin, Gender: unknown\n",
      "Name: Brian, Gender: unknown\n",
      "Name: George, Gender: unknown\n",
      "Name: Timothy, Gender: unknown\n",
      "Name: Ronald, Gender: unknown\n",
      "Name: Jason, Gender: unknown\n",
      "Name: Edward, Gender: unknown\n",
      "Name: Jeffrey, Gender: unknown\n",
      "Name: Ryan, Gender: unknown\n",
      "Name: Jacob, Gender: unknown\n",
      "Name: Gary, Gender: unknown\n",
      "Name: Nicholas, Gender: unknown\n",
      "Name: Eric, Gender: unknown\n",
      "Name: Jonathan, Gender: unknown\n",
      "Name: Stephen, Gender: unknown\n",
      "Name: Larry, Gender: unknown\n",
      "Name: Justin, Gender: unknown\n",
      "Name: Scott, Gender: unknown\n"
     ]
    }
   ],
   "source": [
    "import csv\n",
    "\n",
    "# Open the CSV file\n",
    "with open('names.csv', 'r') as csvfile:\n",
    "    reader = csv.reader(csvfile)\n",
    "    next(reader)  # Skip the header row if it exists\n",
    "\n",
    "    # Iterate over the rows and retrieve genders\n",
    "    for row in reader:\n",
    "        name = row[0]  # Assuming the name is in the first column\n",
    "        gender = get_gender(name)\n",
    "        print(f\"Name: {name}, Gender: {gender}\")"
   ]
  },
  {
   "cell_type": "code",
   "execution_count": null,
   "metadata": {},
   "outputs": [],
   "source": []
  }
 ],
 "metadata": {
  "kernelspec": {
   "display_name": "base",
   "language": "python",
   "name": "python3"
  },
  "language_info": {
   "codemirror_mode": {
    "name": "ipython",
    "version": 3
   },
   "file_extension": ".py",
   "mimetype": "text/x-python",
   "name": "python",
   "nbconvert_exporter": "python",
   "pygments_lexer": "ipython3",
   "version": "3.10.9"
  },
  "orig_nbformat": 4
 },
 "nbformat": 4,
 "nbformat_minor": 2
}
