{
 "cells": [
  {
   "attachments": {},
   "cell_type": "markdown",
   "metadata": {},
   "source": [
    "# Text completion API\n",
    "This API completes text based on a prompt"
   ]
  },
  {
   "cell_type": "code",
   "execution_count": null,
   "metadata": {},
   "outputs": [],
   "source": [
    "# requirements  - make sure you install these first\n",
    "# pip3 install openai - access open AI's pretrained models\n",
    "# pip3 install python-dotenv - access the .env variables such as the API key\n",
    "\n",
    "\n",
    "import os   \n",
    "import openai  ## access openai's library\n",
    "from dotenv import load_dotenv  # load environment variables\n",
    "load_dotenv('.env')\n",
    "\n",
    "openai.api_key = os.getenv(\"OPENAI_API_KEY\") # this refers to the .env file. .env files contain credentials in a key-value format for services that you're using (such as openai). They’re meant to be stored locally and not be uploaded to code repositories online for everyone to read\n",
    "openai.Model.list()\n",
    "\n"
   ]
  },
  {
   "cell_type": "code",
   "execution_count": 11,
   "metadata": {},
   "outputs": [
    {
     "name": "stdout",
     "output_type": "stream",
     "text": [
      "The AI says: {\n",
      "  \"id\": \"cmpl-7Uy8KYBLoTBvAf04w1Ps714BJiv6L\",\n",
      "  \"object\": \"text_completion\",\n",
      "  \"created\": 1687615348,\n",
      "  \"model\": \"text-davinci-003\",\n",
      "  \"choices\": [\n",
      "    {\n",
      "      \"text\": \"\\n\\nXisca's students think she is an excellent teacher who is knowledgeable, patient, and encouraging. They appreciate her enthusiasm for teaching and her willingness to help them understand difficult concepts. They also admire her dedication to her students and her commitment to helping them reach their goals.\",\n",
      "      \"index\": 0,\n",
      "      \"logprobs\": null,\n",
      "      \"finish_reason\": \"stop\"\n",
      "    }\n",
      "  ],\n",
      "  \"usage\": {\n",
      "    \"prompt_tokens\": 9,\n",
      "    \"completion_tokens\": 56,\n",
      "    \"total_tokens\": 65\n",
      "  }\n",
      "}\n"
     ]
    }
   ],
   "source": [
    "# this is the 'hot' setting - that is, the temperature is turned up to 100%! 🔥 🔥 🔥 🔥 🔥 \n",
    "\n",
    "hot = openai.Completion.create(\n",
    "  model=\"text-davinci-003\",\n",
    "  prompt=\"Xisca's students think she is \",\n",
    "  temperature=1.0,\n",
    "  max_tokens=150,\n",
    "  top_p=0.0,\n",
    "  frequency_penalty=0.0,\n",
    "  presence_penalty=0.0\n",
    ")\n",
    "\n",
    "print(\"The AI says:\", hot)"
   ]
  },
  {
   "attachments": {},
   "cell_type": "markdown",
   "metadata": {},
   "source": []
  },
  {
   "cell_type": "code",
   "execution_count": 12,
   "metadata": {},
   "outputs": [
    {
     "name": "stdout",
     "output_type": "stream",
     "text": [
      "The AI says: {\n",
      "  \"id\": \"cmpl-7Uy8fW2CQNS5pRCiQT6XikDOZZnbY\",\n",
      "  \"object\": \"text_completion\",\n",
      "  \"created\": 1687615369,\n",
      "  \"model\": \"text-davinci-003\",\n",
      "  \"choices\": [\n",
      "    {\n",
      "      \"text\": \"\\n\\nXisca's students likely think she is a knowledgeable, patient, and encouraging teacher. They may also view her as someone who is passionate about the subject matter and cares deeply for their success.\",\n",
      "      \"index\": 0,\n",
      "      \"logprobs\": null,\n",
      "      \"finish_reason\": \"stop\"\n",
      "    }\n",
      "  ],\n",
      "  \"usage\": {\n",
      "    \"prompt_tokens\": 8,\n",
      "    \"completion_tokens\": 41,\n",
      "    \"total_tokens\": 49\n",
      "  }\n",
      "}\n"
     ]
    }
   ],
   "source": [
    "# Now, let's try it cold, with the temperature down to 10% 🥶🥶\n",
    "cold = openai.Completion.create(\n",
    "  model=\"text-davinci-003\",\n",
    "  prompt=\"Xisca's students think she is\",\n",
    "  temperature=0.1,\n",
    "  max_tokens=150,\n",
    "  top_p=1.0,\n",
    "  frequency_penalty=1.0,\n",
    "  presence_penalty=1.0\n",
    ")\n",
    "cold\n",
    "\n",
    "\n",
    "print(\"The AI says:\", cold)"
   ]
  },
  {
   "cell_type": "code",
   "execution_count": 14,
   "metadata": {},
   "outputs": [
    {
     "name": "stdout",
     "output_type": "stream",
     "text": [
      "The AI says: {\n",
      "  \"id\": \"cmpl-7UyFLxZuMcP4owdHZS0rzI1032hSZ\",\n",
      "  \"object\": \"text_completion\",\n",
      "  \"created\": 1687615783,\n",
      "  \"model\": \"text-davinci-003\",\n",
      "  \"choices\": [\n",
      "    {\n",
      "      \"text\": \"\\n\\nI would give this week's classes a 4 out of 5.\",\n",
      "      \"index\": 0,\n",
      "      \"logprobs\": null,\n",
      "      \"finish_reason\": \"stop\"\n",
      "    }\n",
      "  ],\n",
      "  \"usage\": {\n",
      "    \"prompt_tokens\": 17,\n",
      "    \"completion_tokens\": 15,\n",
      "    \"total_tokens\": 32\n",
      "  }\n",
      "}\n"
     ]
    }
   ],
   "source": [
    "this_week = openai.Completion.create(\n",
    "  model=\"text-davinci-003\",\n",
    "  prompt=\"what score (from 1 to 5) would you give this week's classes? \",\n",
    "  temperature=1.0,\n",
    "  max_tokens=150,\n",
    "  top_p=0.0,\n",
    "  frequency_penalty=0.0,\n",
    "  presence_penalty=0.0\n",
    ")\n",
    "\n",
    "print(\"The AI says:\", this_week)"
   ]
  }
 ],
 "metadata": {
  "kernelspec": {
   "display_name": "Python 3",
   "language": "python",
   "name": "python3"
  },
  "language_info": {
   "codemirror_mode": {
    "name": "ipython",
    "version": 3
   },
   "file_extension": ".py",
   "mimetype": "text/x-python",
   "name": "python",
   "nbconvert_exporter": "python",
   "pygments_lexer": "ipython3",
   "version": "3.10.9"
  },
  "orig_nbformat": 4
 },
 "nbformat": 4,
 "nbformat_minor": 2
}
